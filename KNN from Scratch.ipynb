{
  "nbformat": 4,
  "nbformat_minor": 0,
  "metadata": {
    "colab": {
      "provenance": []
    },
    "kernelspec": {
      "name": "python3",
      "display_name": "Python 3"
    },
    "language_info": {
      "name": "python"
    }
  },
  "cells": [
    {
      "cell_type": "code",
      "execution_count": null,
      "metadata": {
        "id": "1rtJvJqSmwLa"
      },
      "outputs": [],
      "source": [
        "import numpy as np\n",
        "import pandas as pd\n",
        "import matplotlib.pyplot as plt\n",
        "\n",
        "from sklearn.metrics import accuracy_score\n",
        "from sklearn import preprocessing\n",
        "\n",
        "from scipy.stats import mode\n",
        "from scipy.spatial import distance\n",
        "\n",
        "#KNN algorithm\n",
        "def knn(X_train, X_test, Y_train, Y_test, k):\n",
        "  predict_list = [] #list for save prediction \n",
        "  for test_val in X_test.to_numpy(): #looping for all value in X_test\n",
        "    distances = [] #list for all distance\n",
        "    for i in range(len(X_train)): #looping untul length of X_train\n",
        "      distances.append(distance.euclidean((np.array(X_train.iloc[i])), test_val)) #measure the distances\n",
        "\n",
        "    distance_data = pd.DataFrame(data = distances, columns = ['distance'], index = Y_train.index) #make dataframe with distance column\n",
        "    neighbours_list = distance_data.sort_values(by = 'distance', axis = 0)[:k] #sort 5 nearest distances\n",
        "    \n",
        "    labels = Y_train.loc[neighbours_list.index] #looking for correlation \n",
        "\n",
        "    vote = mode(labels).mode[0] #vote the class\n",
        "\n",
        "    predict_list.append(vote) #save the predict list\n",
        "  return predict_list\n",
        "\n",
        "#read the csv\n",
        "dt_train = pd.read_csv('/content/1915051024_train.csv')\n",
        "dt_test = pd.read_csv('/content/1915051024_test.csv')\n",
        "\n",
        "#looking for Independent Variable\n",
        "X_train = dt_train.drop(columns = ['Column1'])\n",
        "X_test = dt_test.drop(columns = ['Column1'])\n",
        "\n",
        "#Looking for Dependent Variable\n",
        "Y_train = dt_train['Column1'].values\n",
        "Y_test = dt_test['Column1'].values\n",
        "\n",
        "#X_val from string to numeric\n",
        "encoder = preprocessing.LabelEncoder()\n",
        "encoder.fit(Y_train)\n",
        "Y_train = encoder.transform(Y_train)\n",
        "Y_train = pd.DataFrame(Y_train)\n",
        "\n",
        "\n",
        "#Y_val from string to numeric\n",
        "encoder = preprocessing.LabelEncoder()\n",
        "encoder.fit(Y_test)\n",
        "Y_test = encoder.transform(Y_test)\n",
        "# print(Y_test)\n",
        "Y_test = pd.DataFrame(Y_test)\n",
        "# print(Y_test)\n",
        "\n",
        "#looking for the classification\n",
        "prediction = knn(X_train, X_test, Y_train, Y_test, 5)\n",
        "\n",
        "#the result\n",
        "print('Accuration Result: ' + str(accuracy_score(Y_test, prediction) * 100) + ' %')"
      ]
    }
  ]
}